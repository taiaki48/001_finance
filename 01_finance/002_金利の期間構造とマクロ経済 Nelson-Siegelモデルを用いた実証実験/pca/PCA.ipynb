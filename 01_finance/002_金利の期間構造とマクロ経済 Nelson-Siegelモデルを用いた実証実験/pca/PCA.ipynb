{
 "cells": [
  {
   "cell_type": "code",
   "execution_count": null,
   "metadata": {},
   "outputs": [],
   "source": [
    "df_emonth = df_emonth.astype({12:\"float64\",\n",
    "                              24:\"float64\",\n",
    "                              36:\"float64\",\n",
    "                              48:\"float64\",\n",
    "                              60:\"float64\",\n",
    "                              72:\"float64\",\n",
    "                              84:\"float64\",\n",
    "                              96:\"float64\",\n",
    "                             108:\"float64\",\n",
    "                             120:\"float64\",\n",
    "                             180:\"float64\",\n",
    "                             240:\"float64\"})\n",
    "df_pca = df_emonth.iloc[:, :-1].apply(lambda x: (x-x.mean())/x.std(), axis=0)\n",
    "plotting.scatter_matrix(df_pca, figsize=(8, 8), alpha=0.5)\n",
    "plt.show()"
   ]
  },
  {
   "cell_type": "code",
   "execution_count": null,
   "metadata": {},
   "outputs": [],
   "source": [
    "#主成分分析の実行\n",
    "pca = PCA()\n",
    "pca.fit(df_pca)\n",
    "# データを主成分空間に写像\n",
    "feature = pca.transform(df_pca)"
   ]
  },
  {
   "cell_type": "code",
   "execution_count": null,
   "metadata": {},
   "outputs": [],
   "source": [
    "# 主成分得点\n",
    "pd.DataFrame(feature, columns=[\"PC{}\".format(x + 1) for x in range(len(df_pca.columns))])[[\"PC3\"]].plot()"
   ]
  },
  {
   "cell_type": "code",
   "execution_count": null,
   "metadata": {},
   "outputs": [],
   "source": [
    "#PCA1,PCA2でプロット\n",
    "plt.figure(figsize=(6,6))\n",
    "plt.scatter(feature[:,0], feature[:,1], alpha=0.8)\n",
    "plt.grid()\n",
    "plt.xlabel(\"PC1\")\n",
    "plt.ylabel(\"PC2\")\n",
    "plt.show()"
   ]
  },
  {
   "cell_type": "code",
   "execution_count": null,
   "metadata": {},
   "outputs": [],
   "source": [
    "# 寄与率\n",
    "pd.DataFrame(pca.explained_variance_ratio_, index=[\"PC{}\".format(x + 1) for x in range(len(df_pca.columns))])"
   ]
  },
  {
   "cell_type": "code",
   "execution_count": null,
   "metadata": {},
   "outputs": [],
   "source": [
    "# 累積寄与率を図示する\n",
    "import matplotlib.ticker as ticker\n",
    "plt.gca().get_xaxis().set_major_locator(ticker.MaxNLocator(integer=True))\n",
    "plt.plot([0] + list( np.cumsum(pca.explained_variance_ratio_)), \"-o\")\n",
    "plt.xlabel(\"Number of principal components\")\n",
    "plt.ylabel(\"Cumulative contribution rate\")\n",
    "plt.grid()\n",
    "plt.show()"
   ]
  },
  {
   "cell_type": "code",
   "execution_count": null,
   "metadata": {},
   "outputs": [],
   "source": [
    "# PCA の固有値\n",
    "pd.DataFrame(pca.explained_variance_, index=[\"PC{}\".format(x + 1) for x in range(len(df_pca.columns))])"
   ]
  },
  {
   "cell_type": "code",
   "execution_count": null,
   "metadata": {},
   "outputs": [],
   "source": [
    "# PCA の固有ベクトル\n",
    "df_pca_vec = pd.DataFrame(pca.components_, columns=df_pca.columns, index=[\"PC{}\".format(x + 1) for x in range(len(df_pca.columns))])"
   ]
  },
  {
   "cell_type": "code",
   "execution_count": null,
   "metadata": {},
   "outputs": [],
   "source": [
    "dfa = df_pca_vec.stack().reset_index().rename(columns={\"level_0\":\"PCA\", \"level_1\":\"maturity\", 0:\"y\"})\n",
    "sns.lineplot(x='maturity', y='y', hue='PCA', data=dfa.query(\"PCA in ['PC1', 'PC2', 'PC3']\", engine=\"python\"))"
   ]
  }
 ],
 "metadata": {
  "kernelspec": {
   "display_name": "Python 3",
   "language": "python",
   "name": "python3"
  },
  "language_info": {
   "codemirror_mode": {
    "name": "ipython",
    "version": 3
   },
   "file_extension": ".py",
   "mimetype": "text/x-python",
   "name": "python",
   "nbconvert_exporter": "python",
   "pygments_lexer": "ipython3",
   "version": "3.7.4"
  }
 },
 "nbformat": 4,
 "nbformat_minor": 4
}
